{
 "cells": [
  {
   "cell_type": "code",
   "execution_count": 1,
   "metadata": {
    "collapsed": false
   },
   "outputs": [
    {
     "name": "stdout",
     "output_type": "stream",
     "text": [
      "Populating the interactive namespace from numpy and matplotlib\n"
     ]
    }
   ],
   "source": [
    "%pylab tk"
   ]
  },
  {
   "cell_type": "code",
   "execution_count": 2,
   "metadata": {
    "collapsed": false
   },
   "outputs": [],
   "source": [
    "from scipy.integrate import odeint\n",
    "from __future__ import division\n",
    "import time\n",
    "import matplotlib.animation as animation"
   ]
  },
  {
   "cell_type": "code",
   "execution_count": 3,
   "metadata": {
    "collapsed": false
   },
   "outputs": [],
   "source": [
    "species = 5\n",
    "# protein, capture, analyte, control\n",
    "prot_i, cap_i, anal_i, prot_cap_i, prot_anal_i = range(0,species)\n",
    "\n",
    "def f(y, t, plate_flow, Ka_capture, k_capture_on, Ka_analyte, k_analyte_on):\n",
    "    #get the input vector and reshape it into an interpretable array\n",
    "    ar_y = y.reshape(-1, species)\n",
    "    #array that we'll return with derivatives\n",
    "    out = zeros(ar_y.shape)\n",
    "    \n",
    "    #calculate rates\n",
    "    k_capture_off = k_capture_on / Ka_capture\n",
    "    k_analyte_off = k_analyte_on / Ka_analyte\n",
    "    \n",
    "    #get vectors for the concentration of each species\n",
    "    prot = ar_y[:,prot_i]\n",
    "    cap = ar_y[:,cap_i]\n",
    "    anal = ar_y[:,anal_i]\n",
    "    prot_cap = ar_y[:,prot_cap_i]\n",
    "    prot_anal = ar_y[:,prot_anal_i]    \n",
    "    \n",
    "    #equilibrate each plate\n",
    "    out[:,prot_i] = k_capture_off*prot_cap - k_capture_on*prot*cap + k_analyte_off*prot_anal - k_analyte_on*prot*anal\n",
    "    out[:,anal_i] = k_analyte_off*prot_anal - k_analyte_on*prot*anal\n",
    "    out[:,cap_i] = k_capture_off*prot_cap - k_capture_on*prot*cap\n",
    "    out[:,prot_anal_i] = -(k_analyte_off*prot_anal - k_analyte_on*prot*anal)\n",
    "    out[:,prot_cap_i] = -(k_capture_off*prot_cap - k_capture_on*prot*cap)  \n",
    "    \n",
    "    #flow between plates\n",
    "    for key in [prot_i, anal_i, prot_anal_i]:\n",
    "        additional = hstack((0, ar_y[:,key]))\n",
    "        leaving = - plate_flow*ar_y[:,key]\n",
    "        coming = plate_flow*additional[0:-1] \n",
    "        leaving[50:]=0\n",
    "        coming[51:]=0\n",
    "        out[:,key] = out[:,key] + leaving + coming\n",
    "    \n",
    "    return out.reshape(-1,1)[:,0]\n",
    "\n",
    "\n",
    "npts=1000\n",
    "def run_ode(protein_start=10**-10.0, anal_start=10**-10.0, cap_start=10**-5.0, \\\n",
    "            kanal=10**10.0, kcap=10**8.0, kinetic_factor = 100.0):\n",
    "    #global parameters that we want to keep constant for all simulations\n",
    "    width, length, thickness = 10.0, 50.0/2.0, 0.15#units of mm\n",
    "    porosity = 0.7\n",
    "    col_vol = porosity*width*length*thickness / 1000.0 #ml\n",
    "    #print 'Column volume is %0.2f ul'%(col_vol*1000)\n",
    "\n",
    "    flow = 0.001 #ml/min\n",
    "    flow = flow/60.0 #ml/s\n",
    "    plates = 51\n",
    "    plate_vol = col_vol / plates\n",
    "    plate_flow = flow/plate_vol\n",
    "    #print 'Plate volume is %0.2f ul'%(plate_vol*1000)\n",
    "\n",
    "    volumes = linspace(0, col_vol*2.0, npts)\n",
    "\n",
    "    times = volumes / flow\n",
    "    cvs = volumes / col_vol\n",
    "\n",
    "    col = zeros((plates, species))\n",
    "    col[0, prot_i] = protein_start\n",
    "    col[0, anal_i] = anal_start\n",
    "    col[40, cap_i] = cap_start\n",
    "\n",
    "    linear_col = col.reshape(-1,1)\n",
    "\n",
    "    start = time.time()\n",
    "    result = odeint(f, linear_col[:,0], times, args=(plate_flow, kcap, kcap*kinetic_factor, kanal, kanal*kinetic_factor),\\\n",
    "                   printmessg=False, rtol=10**-18, atol=10**-18)\n",
    "    print \"Calculation took %0.2fs\"%(time.time()-start)\n",
    "    return result"
   ]
  },
  {
   "cell_type": "markdown",
   "metadata": {},
   "source": [
    "#Test section"
   ]
  },
  {
   "cell_type": "code",
   "execution_count": 4,
   "metadata": {
    "collapsed": false
   },
   "outputs": [
    {
     "name": "stdout",
     "output_type": "stream",
     "text": [
      "Calculation took 2.84s\n"
     ]
    }
   ],
   "source": [
    "result = run_ode(protein_start = 10**-10.0, anal_start = 10**-8.0, cap_start = 10**-5.0)"
   ]
  },
  {
   "cell_type": "code",
   "execution_count": 5,
   "metadata": {
    "collapsed": false
   },
   "outputs": [],
   "source": [
    "#animation of the setup\n",
    "t = 0\n",
    "\n",
    "cap = result[t,:].reshape(-1, species)[:,cap_i]\n",
    "prot_cap = result[t,:].reshape(-1, species)[:,prot_cap_i]\n",
    "prot = result[t,:].reshape(-1, species)[:,prot_i] \n",
    "anal = result[t,:].reshape(-1, species)[:,anal_i] \n",
    "prot_anal = result[t,:].reshape(-1, species)[:,prot_anal_i] \n",
    "\n",
    "fig = figure(1, figsize=(10, 5))\n",
    "clf()\n",
    "\n",
    "#plot(cap, 'o-', label='cap')\n",
    "prot_cap_line, = plot(prot_cap*10**6, '-', label='prot-cap')\n",
    "prot_line, = plot(prot*10**6, '-', label='prot')\n",
    "#anal_line, = plot(anal*10**6, '-', label='anal')\n",
    "prot_anal_line, = plot(prot_anal*10**6, label='prot_anal')\n",
    "legend(loc='upper left')\n",
    "\n",
    "#ylim((0, 0.0001))\n",
    "grid()\n",
    "\n",
    "def animate(i):\n",
    "    i=int(i)\n",
    "    prot_cap_line.set_ydata(result[i,:].reshape(-1, species)[:,prot_cap_i]*10**6)\n",
    "    prot_line.set_ydata(result[i,:].reshape(-1, species)[:,prot_i] *10**6)\n",
    "    #anal_line.set_ydata(result[i,:].reshape(-1, species)[:,anal_i] *10**6)\n",
    "    prot_anal_line.set_ydata(result[i,:].reshape(-1, species)[:,prot_anal_i] *10**6)\n",
    "    #return prot_cap_line,prot_line,\n",
    "\n",
    "ani = animation.FuncAnimation(fig, animate, linspace(0, npts-1, 200),\n",
    "    interval=10, blit=False, repeat=False)\n",
    "\n",
    "show()"
   ]
  },
  {
   "cell_type": "code",
   "execution_count": 6,
   "metadata": {
    "collapsed": false
   },
   "outputs": [
    {
     "name": "stdout",
     "output_type": "stream",
     "text": [
      "8.80673088489\n",
      "-0.944814725423\n"
     ]
    }
   ],
   "source": [
    "t = -1\n",
    "cap = result[t,:].reshape(-1, species)[:,cap_i]\n",
    "prot_cap = result[t,:].reshape(-1, species)[:,prot_cap_i]\n",
    "prot = result[t,:].reshape(-1, species)[:,prot_i] \n",
    "anal = result[t,:].reshape(-1, species)[:,anal_i] \n",
    "prot_anal = result[t,:].reshape(-1, species)[:,prot_anal_i] \n",
    "\n",
    "allprot = prot_cap+prot+prot_anal\n",
    "\n",
    "first_spot, second_spot = allprot[40], allprot[50]\n",
    "\n",
    "print first_spot/second_spot\n",
    "\n",
    "print log10(second_spot / first_spot)"
   ]
  },
  {
   "cell_type": "code",
   "execution_count": 58,
   "metadata": {
    "collapsed": false
   },
   "outputs": [
    {
     "name": "stderr",
     "output_type": "stream",
     "text": [
      "C:\\Users\\rkwant\\AppData\\Local\\Enthought\\Canopy\\User\\lib\\site-packages\\ipython-3.0.0-py2.7.egg\\IPython\\kernel\\__main__.py:13: RuntimeWarning: invalid value encountered in true_divide\n",
      "C:\\Users\\rkwant\\AppData\\Local\\Enthought\\Canopy\\User\\lib\\site-packages\\ipython-3.0.0-py2.7.egg\\IPython\\kernel\\__main__.py:14: RuntimeWarning: invalid value encountered in true_divide\n"
     ]
    }
   ],
   "source": [
    "#check equilibrium\n",
    "t = 100\n",
    "\n",
    "cap = result[t,:].reshape(-1, species)[:,cap_i]\n",
    "prot_cap = result[t,:].reshape(-1, species)[:,prot_cap_i]\n",
    "prot = result[t,:].reshape(-1, species)[:,prot_i] \n",
    "anal = result[t,:].reshape(-1, species)[:,anal_i] \n",
    "prot_anal = result[t,:].reshape(-1, species)[:,prot_anal_i] \n",
    "\n",
    "\n",
    "figure(2)\n",
    "clf()\n",
    "plot(log10(prot_cap / (prot*cap)), 'o')\n",
    "plot(log10(prot_anal / (prot*anal)), 'o')\n",
    "draw()"
   ]
  },
  {
   "cell_type": "markdown",
   "metadata": {},
   "source": [
    "#Heat Maps"
   ]
  },
  {
   "cell_type": "code",
   "execution_count": 11,
   "metadata": {
    "collapsed": false
   },
   "outputs": [
    {
     "name": "stdout",
     "output_type": "stream",
     "text": [
      "0 0\n",
      "Calculation took 5.32s\n",
      "0 1\n",
      "Calculation took 4.99s\n",
      "0 2\n",
      "Calculation took 5.90s\n",
      "0 3\n",
      "Calculation took 5.08s\n",
      "0 4\n",
      "Calculation took 4.45s\n",
      "0 5\n",
      "Calculation took 4.53s\n",
      "0 6\n",
      "Calculation took 4.27s\n",
      "0 7\n",
      "Calculation took 4.34s\n",
      "0 8\n",
      "Calculation took 3.65s\n",
      "0 9\n",
      "Calculation took 3.52s\n",
      "1 0\n",
      "Calculation took 5.51s\n",
      "1 1\n",
      "Calculation took 6.19s\n",
      "1 2\n",
      "Calculation took 5.60s\n",
      "1 3\n",
      "Calculation took 6.23s\n",
      "1 4\n",
      "Calculation took 5.40s\n",
      "1 5\n",
      "Calculation took 5.16s\n",
      "1 6\n",
      "Calculation took 5.06s\n",
      "1 7\n",
      "Calculation took 4.98s\n",
      "1 8\n",
      "Calculation took 4.53s\n",
      "1 9\n",
      "Calculation took 3.79s\n",
      "2 0\n",
      "Calculation took 5.79s\n",
      "2 1\n",
      "Calculation took 6.01s\n",
      "2 2\n",
      "Calculation took 5.90s\n",
      "2 3\n",
      "Calculation took 5.58s\n",
      "2 4\n",
      "Calculation took 5.49s\n",
      "2 5\n",
      "Calculation took 5.53s\n",
      "2 6\n",
      "Calculation took 5.29s\n",
      "2 7\n",
      "Calculation took 4.53s\n",
      "2 8\n",
      "Calculation took 4.53s\n",
      "2 9\n",
      "Calculation took 4.55s\n",
      "3 0\n",
      "Calculation took 7.07s\n",
      "3 1\n",
      "Calculation took 6.27s\n",
      "3 2\n",
      "Calculation took 8.03s\n",
      "3 3\n",
      "Calculation took 6.97s\n",
      "3 4\n",
      "Calculation took 6.06s\n",
      "3 5\n",
      "Calculation took 5.73s\n",
      "3 6\n",
      "Calculation took 4.58s\n",
      "3 7\n",
      "Calculation took 4.74s\n",
      "3 8\n",
      "Calculation took 4.83s\n",
      "3 9\n",
      "Calculation took 4.50s\n",
      "4 0\n",
      "Calculation took 6.27s\n",
      "4 1\n",
      "Calculation took 6.98s\n",
      "4 2\n",
      "Calculation took 6.66s\n",
      "4 3\n",
      "Calculation took 5.95s\n",
      "4 4\n",
      "Calculation took 6.20s\n",
      "4 5\n",
      "Calculation took 5.88s\n",
      "4 6\n",
      "Calculation took 6.11s\n",
      "4 7\n",
      "Calculation took 5.46s\n",
      "4 8\n",
      "Calculation took 5.40s\n",
      "4 9\n",
      "Calculation took 4.80s\n",
      "5 0\n",
      "Calculation took 8.19s\n",
      "5 1\n",
      "Calculation took 7.67s\n",
      "5 2\n",
      "Calculation took 7.63s\n",
      "5 3\n",
      "Calculation took 7.15s\n",
      "5 4\n",
      "Calculation took 7.00s\n",
      "5 5\n",
      "Calculation took 7.04s\n",
      "5 6\n",
      "Calculation took 6.62s\n",
      "5 7\n",
      "Calculation took 5.95s\n",
      "5 8\n",
      "Calculation took 6.63s\n",
      "5 9\n",
      "Calculation took 6.30s\n",
      "6 0\n",
      "Calculation took 8.52s\n",
      "6 1\n",
      "Calculation took 8.11s\n",
      "6 2\n",
      "Calculation took 7.54s\n",
      "6 3\n",
      "Calculation took 6.61s\n",
      "6 4\n",
      "Calculation took 6.91s\n",
      "6 5\n",
      "Calculation took 6.65s\n",
      "6 6\n",
      "Calculation took 6.69s\n",
      "6 7\n",
      "Calculation took 6.11s\n",
      "6 8\n",
      "Calculation took 6.40s\n",
      "6 9\n",
      "Calculation took 5.74s\n",
      "7 0\n",
      "Calculation took 7.25s\n",
      "7 1\n",
      "Calculation took 7.33s\n",
      "7 2\n",
      "Calculation took 6.89s\n",
      "7 3\n",
      "Calculation took 6.79s\n",
      "7 4\n",
      "Calculation took 6.80s\n",
      "7 5\n",
      "Calculation took 6.58s\n",
      "7 6\n",
      "Calculation took 6.55s\n",
      "7 7\n",
      "Calculation took 5.92s\n",
      "7 8\n",
      "Calculation took 6.04s\n",
      "7 9\n",
      "Calculation took 6.02s\n",
      "8 0\n",
      "Calculation took 7.73s\n",
      "8 1\n",
      "Calculation took 7.34s\n",
      "8 2\n",
      "Calculation took 7.09s\n",
      "8 3\n",
      "Calculation took 7.06s\n",
      "8 4\n",
      "Calculation took 7.14s\n",
      "8 5\n",
      "Calculation took 7.11s\n",
      "8 6\n",
      "Calculation took 6.87s\n",
      "8 7\n",
      "Calculation took 6.91s\n",
      "8 8\n",
      "Calculation took 6.64s\n",
      "8 9\n",
      "Calculation took 6.23s\n",
      "9 0\n",
      "Calculation took 7.00s\n",
      "9 1\n",
      "Calculation took 6.91s\n",
      "9 2\n",
      "Calculation took 7.10s\n",
      "9 3\n",
      "Calculation took 7.01s\n",
      "9 4\n",
      "Calculation took 6.99s\n",
      "9 5\n",
      "Calculation took 7.22s\n",
      "9 6\n",
      "Calculation took 6.97s\n",
      "9 7\n",
      "Calculation took 6.82s\n",
      "9 8\n",
      "Calculation took 6.77s\n",
      "9 9\n",
      "Calculation took 6.79s\n",
      "done\n"
     ]
    }
   ],
   "source": [
    "#2D heatmap\n",
    "#analyte concentration\n",
    "xstart, xstop, xdim = -10, -5, 10\n",
    "#capture concentration\n",
    "ystart, ystop, ydim = -6.5, -5.5, 10\n",
    "\n",
    "pconc = -8.0\n",
    "\n",
    "out = zeros((ydim, xdim))\n",
    "\n",
    "for i,analpow in enumerate(linspace(xstart, xstop, xdim)):\n",
    "    for j,cappow in enumerate(linspace(ystart, ystop, ydim)):\n",
    "        print i,j\n",
    "        result = run_ode(anal_start = 10**analpow, cap_start = 10**cappow, protein_start = 10**pconc)\n",
    "        t = -1\n",
    "        cap = result[t,:].reshape(-1, species)[:,cap_i]\n",
    "        prot_cap = result[t,:].reshape(-1, species)[:,prot_cap_i]\n",
    "        prot = result[t,:].reshape(-1, species)[:,prot_i] \n",
    "        anal = result[t,:].reshape(-1, species)[:,anal_i] \n",
    "        prot_anal = result[t,:].reshape(-1, species)[:,prot_anal_i] \n",
    "        allprot = prot_cap+prot+prot_anal\n",
    "        first_spot, second_spot = abs(allprot[40]), abs(allprot[50])\n",
    "        #print first_spot, second_spot\n",
    "        out[j,i] = log10(second_spot/first_spot)\n",
    "print 'done'"
   ]
  },
  {
   "cell_type": "code",
   "execution_count": 12,
   "metadata": {
    "collapsed": false
   },
   "outputs": [],
   "source": [
    "figure(3)\n",
    "clf()\n",
    "\n",
    "vrange = 2\n",
    "\n",
    "imshow(out, interpolation='none', cmap='seismic', vmin=-vrange, vmax=vrange, \\\n",
    "       extent=(xstart-0.5*((xstop-xstart)/(xdim-1)), xstop+0.5*((xstop-xstart)/(xdim-1)), \\\n",
    "               ystop+0.5*((ystop-ystart)/(ydim-1)), ystart-0.5*((ystop-ystart)/(ydim-1))),\\\n",
    "      aspect=(xstop-xstart)/(ystop-ystart))\n",
    "       \n",
    "colorbar()\n",
    "\n",
    "xlabel('analyte concentration')\n",
    "ylabel('capture concentration')\n",
    "title('log10(protein conc) = %0.2f'%(pconc))\n",
    "\n",
    "tight_layout()\n",
    "draw()\n",
    "\n",
    "savefig('heatmaps\\\\protein_conc-zoom_%0.2f.pdf'%(pconc))"
   ]
  },
  {
   "cell_type": "markdown",
   "metadata": {},
   "source": [
    "\n",
    "#other things"
   ]
  },
  {
   "cell_type": "code",
   "execution_count": 106,
   "metadata": {
    "collapsed": false
   },
   "outputs": [
    {
     "data": {
      "text/plain": [
       "<matplotlib.legend.Legend at 0x990ec88>"
      ]
     },
     "execution_count": 106,
     "metadata": {},
     "output_type": "execute_result"
    }
   ],
   "source": [
    "t = 600\n",
    "\n",
    "cap = result[t,:].reshape(-1, species)[:,cap_i]\n",
    "prot_cap = result[t,:].reshape(-1, species)[:,prot_cap_i]\n",
    "prot = result[t,:].reshape(-1, species)[:,prot_i] \n",
    "\n",
    "fig = figure(2)\n",
    "clf()\n",
    "\n",
    "#plot(cap, 'o-', label='cap')\n",
    "plot(prot_cap, '--', label='prot-cap')\n",
    "plot(prot, 'o-', label='prot')\n",
    "plot(cap, 'o-', label='cap')\n",
    "\n",
    "a = xlabel('test')\n",
    "\n",
    "legend()"
   ]
  },
  {
   "cell_type": "code",
   "execution_count": 102,
   "metadata": {
    "collapsed": false
   },
   "outputs": [],
   "source": [
    "figure(1, figsize=(10, 8))\n",
    "clf()\n",
    "\n",
    "plot(volumes, result[:,prot_i-species], label='Coumarin-estradiol')\n",
    "#plot(cvs, result[:,c_i-species])\n",
    "#plot(cvs, result[:,cdp_i-species])\n",
    "#plot(volumes, result[:,cdc_i-species], label='cdc')\n",
    "#plot(volumes, result[:,cd_i-species], label='cd')\n",
    "#plot(volumes, result[:,cdp_i-species], label='cdp')\n",
    "grid()\n",
    "legend()\n",
    "#ylim((-0.000001, 0.00004))\n",
    "xlabel('Volume / ml')\n",
    "ylabel('Concentration')\n",
    "\n",
    "savefig('example2.pdf')"
   ]
  },
  {
   "cell_type": "markdown",
   "metadata": {
    "collapsed": false
   },
   "source": [
    "#nondimensionalization"
   ]
  },
  {
   "cell_type": "code",
   "execution_count": 6,
   "metadata": {
    "collapsed": true
   },
   "outputs": [],
   "source": [
    "species=5\n",
    "prot_i, cap_i, anal_i, prot_cap_i, prot_anal_i = range(0,species)\n",
    "def f2(y, t, plate_flow, k_capture_on, k_capture_off, k_analyte_on, k_analyte_off):\n",
    "    #get the input vector and reshape it into an interpretable array\n",
    "    ar_y = y.reshape(-1, species)\n",
    "    #array that we'll return with derivatives\n",
    "    out = zeros(ar_y.shape)\n",
    "       \n",
    "    #get vectors for the concentration of each species\n",
    "    prot = ar_y[:,prot_i]\n",
    "    cap = ar_y[:,cap_i]\n",
    "    anal = ar_y[:,anal_i]\n",
    "    prot_cap = ar_y[:,prot_cap_i]\n",
    "    prot_anal = ar_y[:,prot_anal_i]    \n",
    "    \n",
    "    #equilibrate each plate\n",
    "    out[:,prot_i] = k_capture_off*prot_cap - k_capture_on*prot*cap + k_analyte_off*prot_anal - k_analyte_on*prot*anal\n",
    "    out[:,anal_i] = k_analyte_off*prot_anal - k_analyte_on*prot*anal\n",
    "    out[:,cap_i] = k_capture_off*prot_cap - k_capture_on*prot*cap\n",
    "    out[:,prot_anal_i] = -(k_analyte_off*prot_anal - k_analyte_on*prot*anal)\n",
    "    out[:,prot_cap_i] = -(k_capture_off*prot_cap - k_capture_on*prot*cap)  \n",
    "    \n",
    "    #flow between plates\n",
    "    for key in [prot_i, anal_i, prot_anal_i]:\n",
    "        additional = hstack((0, ar_y[:,key]))\n",
    "        leaving = - plate_flow*ar_y[:,key]\n",
    "        coming = plate_flow*additional[0:-1] \n",
    "        leaving[50:]=0\n",
    "        coming[51:]=0\n",
    "        out[:,key] = out[:,key] + leaving + coming\n",
    "    \n",
    "    return out.reshape(-1,1)[:,0]"
   ]
  },
  {
   "cell_type": "code",
   "execution_count": 7,
   "metadata": {
    "collapsed": false
   },
   "outputs": [
    {
     "name": "stdout",
     "output_type": "stream",
     "text": [
      "Calculation took 2.34s\n",
      "Calculation took 4.15s\n",
      "Calculation took 4.62s\n",
      "Calculation took 5.10s\n",
      "Calculation took 5.51s\n",
      "Calculation took 5.00s\n"
     ]
    }
   ],
   "source": [
    "out=[]\n",
    "kfrange = range(0, 6)\n",
    "for kinetic_factor in kfrange:\n",
    "    kinetic_factor = 10**kinetic_factor\n",
    "    npts=1000\n",
    "    protein_start=10**-10.0\n",
    "    anal_start=10**-8.0\n",
    "    cap_start=10**-5.0\n",
    "    kanal=10**10.0\n",
    "    kcap=10**8.0\n",
    "    #kinetic_factor = 1\n",
    "\n",
    "    kanaloff = kinetic_factor\n",
    "    kanalon = kanal*kanaloff\n",
    "    kcapoff = kinetic_factor\n",
    "    kcapon = kcap*kcapoff\n",
    "\n",
    "    #nondimensionalize\n",
    "    xc = protein_start\n",
    "    tc = 1.0\n",
    "    protein_start = protein_start / xc\n",
    "    anal_start = anal_start / xc\n",
    "    cap_start = cap_start / xc\n",
    "    kanalon, kanaloff = kanalon*xc*tc, kanaloff*tc\n",
    "    kcapon, kcapoff = kcapon*xc*tc, kcapoff*tc\n",
    "\n",
    "\n",
    "    #global parameters that we want to keep constant for all simulations\n",
    "    width, length, thickness = 10.0, 50.0/2.0, 0.15#units of mm\n",
    "    porosity = 0.7\n",
    "    col_vol = porosity*width*length*thickness / 1000.0 #ml\n",
    "    #print 'Column volume is %0.2f ul'%(col_vol*1000)\n",
    "\n",
    "    flow = 0.01 #ml/min\n",
    "    flow = flow/60.0 #ml/s\n",
    "    plates = 51\n",
    "    plate_vol = col_vol / plates\n",
    "    plate_flow = flow/plate_vol\n",
    "    #print 'Plate volume is %0.2f ul'%(plate_vol*1000)\n",
    "    volumes = linspace(0, col_vol*2.0, npts)\n",
    "    times = volumes / flow\n",
    "    cvs = volumes / col_vol\n",
    "\n",
    "\n",
    "    col = zeros((plates, species))\n",
    "    col[0, prot_i] = protein_start\n",
    "    col[0, anal_i] = anal_start\n",
    "    col[40, cap_i] = cap_start\n",
    "\n",
    "    linear_col = col.reshape(-1,1)\n",
    "\n",
    "    start = time.time()\n",
    "    result = odeint(f2, linear_col[:,0], times, args=(plate_flow, kcapon, kcapoff, kanalon, kanaloff),\\\n",
    "                   printmessg=False)\n",
    "\n",
    "    out.append(result)\n",
    "    print \"Calculation took %0.2fs\"%(time.time()-start)"
   ]
  },
  {
   "cell_type": "code",
   "execution_count": 8,
   "metadata": {
    "collapsed": false
   },
   "outputs": [],
   "source": [
    "figure(3)\n",
    "clf()\n",
    "for i,v in enumerate(kfrange):\n",
    "    t = -1\n",
    "    result = out[i]\n",
    "    cap = result[t,:].reshape(-1, species)[:,cap_i]\n",
    "    prot_cap = result[t,:].reshape(-1, species)[:,prot_cap_i]\n",
    "    prot = result[t,:].reshape(-1, species)[:,prot_i] \n",
    "    anal = result[t,:].reshape(-1, species)[:,anal_i] \n",
    "    prot_anal = result[t,:].reshape(-1, species)[:,prot_anal_i] \n",
    "    allprot = prot_cap+prot+prot_anal\n",
    "    first_spot, second_spot = abs(allprot[40]), abs(allprot[50])\n",
    "    \n",
    "    plot(v, first_spot/second_spot, 'o')\n",
    "grid()"
   ]
  },
  {
   "cell_type": "code",
   "execution_count": 248,
   "metadata": {
    "collapsed": false
   },
   "outputs": [],
   "source": [
    "#animation of the setup\n",
    "t = -1\n",
    "\n",
    "cap = result[t,:].reshape(-1, species)[:,cap_i]\n",
    "prot_cap = result[t,:].reshape(-1, species)[:,prot_cap_i]\n",
    "prot = result[t,:].reshape(-1, species)[:,prot_i] \n",
    "anal = result[t,:].reshape(-1, species)[:,anal_i] \n",
    "prot_anal = result[t,:].reshape(-1, species)[:,prot_anal_i] \n",
    "\n",
    "fig = figure(1, figsize=(10, 5))\n",
    "clf()\n",
    "\n",
    "#plot(cap, 'o-', label='cap')\n",
    "prot_cap_line, = plot(prot_cap, '-', label='prot-cap')\n",
    "prot_line, = plot(prot, '-', label='prot')\n",
    "#anal_line, = plot(anal, '-', label='anal')\n",
    "prot_anal_line, = plot(prot_anal, label='prot_anal')\n",
    "legend(loc='upper left')\n",
    "\n",
    "#ylim((-0.00001, 0.1))\n",
    "grid()\n",
    "\n",
    "if False:\n",
    "    def animate(i):\n",
    "        i=int(i)\n",
    "        prot_cap_line.set_ydata(result[i,:].reshape(-1, species)[:,prot_cap_i])\n",
    "        prot_line.set_ydata(result[i,:].reshape(-1, species)[:,prot_i])\n",
    "        #anal_line.set_ydata(result[i,:].reshape(-1, species)[:,anal_i])\n",
    "        prot_anal_line.set_ydata(result[i,:].reshape(-1, species)[:,prot_anal_i])\n",
    "        #return prot_cap_line,prot_line,\n",
    "\n",
    "    ani = animation.FuncAnimation(fig, animate, linspace(0, npts-1, 200),\n",
    "        interval=10, blit=False, repeat=False)\n",
    "\n",
    "show()"
   ]
  },
  {
   "cell_type": "code",
   "execution_count": 213,
   "metadata": {
    "collapsed": false
   },
   "outputs": [
    {
     "name": "stderr",
     "output_type": "stream",
     "text": [
      "C:\\Users\\rkwant\\AppData\\Local\\Enthought\\Canopy\\User\\lib\\site-packages\\ipython-3.0.0-py2.7.egg\\IPython\\kernel\\__main__.py:13: RuntimeWarning: invalid value encountered in true_divide\n"
     ]
    }
   ],
   "source": [
    "#check equilibrium\n",
    "#t = 50\n",
    "\n",
    "cap = result[t,:].reshape(-1, species)[:,cap_i] * xc\n",
    "prot_cap = result[t,:].reshape(-1, species)[:,prot_cap_i] * xc\n",
    "prot = result[t,:].reshape(-1, species)[:,prot_i]  * xc\n",
    "anal = result[t,:].reshape(-1, species)[:,anal_i]  * xc\n",
    "prot_anal = result[t,:].reshape(-1, species)[:,prot_anal_i]  * xc\n",
    "\n",
    "\n",
    "figure(2)\n",
    "clf()\n",
    "plot(log10(prot_cap / (prot*cap)), 'o')\n",
    "plot(log10(prot_anal / (prot*anal)), 'o')\n",
    "draw()"
   ]
  },
  {
   "cell_type": "code",
   "execution_count": null,
   "metadata": {
    "collapsed": true
   },
   "outputs": [],
   "source": []
  }
 ],
 "metadata": {
  "kernelspec": {
   "display_name": "Python 2",
   "language": "python",
   "name": "python2"
  },
  "language_info": {
   "codemirror_mode": {
    "name": "ipython",
    "version": 2
   },
   "file_extension": ".py",
   "mimetype": "text/x-python",
   "name": "python",
   "nbconvert_exporter": "python",
   "pygments_lexer": "ipython2",
   "version": "2.7.6"
  }
 },
 "nbformat": 4,
 "nbformat_minor": 0
}
