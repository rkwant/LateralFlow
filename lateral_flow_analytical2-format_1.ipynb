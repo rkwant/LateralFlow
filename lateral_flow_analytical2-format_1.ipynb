{
 "cells": [
  {
   "cell_type": "code",
   "execution_count": 1,
   "metadata": {
    "collapsed": false
   },
   "outputs": [
    {
     "name": "stdout",
     "output_type": "stream",
     "text": [
      "Using matplotlib backend: MacOSX\n",
      "Populating the interactive namespace from numpy and matplotlib\n"
     ]
    }
   ],
   "source": [
    "%pylab"
   ]
  },
  {
   "cell_type": "code",
   "execution_count": 2,
   "metadata": {
    "collapsed": false
   },
   "outputs": [
    {
     "name": "stderr",
     "output_type": "stream",
     "text": [
      ":0: FutureWarning: IPython widgets are experimental and may change in the future.\n"
     ]
    }
   ],
   "source": [
    "from scipy.integrate import odeint\n",
    "from __future__ import division\n",
    "import time\n",
    "import matplotlib.animation as animation\n",
    "from IPython.display import clear_output, display\n",
    "from IPython.html.widgets import FloatProgress"
   ]
  },
  {
   "cell_type": "code",
   "execution_count": 3,
   "metadata": {
    "collapsed": true
   },
   "outputs": [],
   "source": [
    "def equilibrate(fa, fb, fp, ka, kb):\n",
    "    ka, kb = 1.0/ka, 1.0/kb\n",
    "    a = ka + kb + fa + fb - fp\n",
    "    b = kb*(fa-fp) + ka*(fb-fp) + ka*kb\n",
    "    c = -ka*kb*fp\n",
    "    \n",
    "    theta = arccos((-2.0*a*a*a+9.0*a*b-27.0*c)/(2*sqrt((a*a-3.0*b)**3.0)))\n",
    "    \n",
    "    p = -(a/3.0) + (2.0/3.0)*sqrt(a*a-3.0*b)*cos(theta/3.0)\n",
    "    pa = (fa*(2*sqrt(a*a-3*b)*cos(theta/3.0)-a)) / (3.0*ka+(2*sqrt(a*a-3*b)*cos(theta/3.0)-a))\n",
    "    pb = (fb*(2*sqrt(a*a-3*b)*cos(theta/3.0)-a)) / (3.0*kb+(2*sqrt(a*a-3*b)*cos(theta/3.0)-a))\n",
    "    \n",
    "    a = fa - pa\n",
    "    b = fb - pb\n",
    "    \n",
    "    fa / (a+pa)\n",
    "    return a, b, p, pa, pb\n",
    "    #return a*fa / (a+pa), b*fb/(b+pb), p*fp/(pa+pb+p), pa*fp / (pb+pa+b), pb*fp / (pb+pa+b)\n",
    "\n",
    "species = 5\n",
    "# protein, capture, analyte, control\n",
    "prot_i, cap_i, anal_i, prot_cap_i, prot_anal_i = range(0,species)\n",
    "\n",
    "def run_column(protein_start=10**-10.0, anal_start=10**-9.0, cap_start=10**-5.5, kanal=10**10.0, kcap=10**8.0, timestep=0.1, \\\n",
    "               verbose=False, dtype=longdouble, stop=2.0):\n",
    "    width, length, thickness = 10.0, 50.0, 0.15#units of mm\n",
    "    porosity = 0.7\n",
    "    col_vol = porosity*width*length*thickness / 1000.0 #ml\n",
    "    if verbose: print 'Column volume is %0.2f ul'%(col_vol*1000)\n",
    "\n",
    "    flow = 0.01 #ml/min\n",
    "    flow = flow/60.0 #ml/s\n",
    "    plates = 100\n",
    "    plate_vol = col_vol / plates\n",
    "    plate_flow = flow/plate_vol\n",
    "    if verbose: print 'Plate volume is %0.2f ul'%(plate_vol*1000)\n",
    "\n",
    "    vstart, vstop = 0, col_vol*stop\n",
    "    iterations = int(floor(vstop/(timestep*flow)))\n",
    "    if verbose: print iterations\n",
    "    volumes = array(range(0, iterations))*flow*timestep\n",
    "\n",
    "    if verbose: print 'pf timestep product:',plate_flow*timestep\n",
    "\n",
    "    col = zeros((plates, species), dtype=dtype)\n",
    "    col[29:33, prot_i] = protein_start\n",
    "    col[0:33, anal_i] = anal_start\n",
    "    col[48, cap_i] = cap_start\n",
    "\n",
    "    start = time.time()\n",
    "\n",
    "    out = zeros((plates, species, iterations))\n",
    "    for i in range(0, iterations):\n",
    "        out[:,:,i] = col\n",
    "        current_volume = i*timestep*flow\n",
    "\n",
    "        prot = col[:,prot_i]\n",
    "        cap = col[:,cap_i]\n",
    "        anal = col[:,anal_i]\n",
    "        prot_cap = col[:,prot_cap_i]\n",
    "        prot_anal = col[:,prot_anal_i]\n",
    "\n",
    "        col[:,anal_i], col[:,cap_i], col[:,prot_i], col[:,prot_anal_i], col[:,prot_cap_i] = \\\n",
    "            equilibrate(anal+prot_anal, cap+prot_cap, prot+prot_cap+prot_anal, kanal, kcap)\n",
    "        col[isnan(col)] = 0\n",
    "\n",
    "        for key in [prot_i, anal_i, prot_anal_i]:\n",
    "            change = col[:,key].copy()*plate_flow*timestep\n",
    "            if key != anal_i: change[58:]=0\n",
    "            col[:,key] = col[:,key] - change[:]\n",
    "            col[1:, key] = col[1:, key] + change[:-1]\n",
    "            if key == anal_i: col[0, key] = col[0, key] + anal_start*plate_flow*timestep\n",
    "    out[:,:,i] = col   \n",
    "        \n",
    "    if verbose: print \"Calculation took %0.2fs\"%(time.time()-start)\n",
    "    return out, iterations"
   ]
  },
  {
   "cell_type": "code",
   "execution_count": 4,
   "metadata": {
    "collapsed": false
   },
   "outputs": [
    {
     "name": "stdout",
     "output_type": "stream",
     "text": [
      "Column volume is 52.50 ul\n",
      "Plate volume is 0.53 ul\n",
      "6299\n",
      "pf timestep product: 0.031746031746\n",
      "Calculation took 1.26s\n"
     ]
    },
    {
     "name": "stderr",
     "output_type": "stream",
     "text": [
      "/Users/richardkwant/Library/Enthought/Canopy_64bit/User/lib/python2.7/site-packages/ipython-3.2.0-py2.7.egg/IPython/kernel/__main__.py:16: RuntimeWarning: invalid value encountered in true_divide\n"
     ]
    }
   ],
   "source": [
    "out, iterations = run_column(cap_start=10**-4.8, anal_start=10**-8.0, protein_start=10**-10.0, \\\n",
    "                             kcap = 10**7.7, kanal = 10**9.3, verbose=True, \\\n",
    "                            dtype=longdouble)"
   ]
  },
  {
   "cell_type": "code",
   "execution_count": 8,
   "metadata": {
    "collapsed": false
   },
   "outputs": [
    {
     "name": "stderr",
     "output_type": "stream",
     "text": [
      "/Users/richardkwant/Library/Enthought/Canopy_64bit/User/lib/python2.7/site-packages/ipython-3.2.0-py2.7.egg/IPython/kernel/__main__.py:58: RuntimeWarning: invalid value encountered in true_divide\n"
     ]
    },
    {
     "data": {
      "text/plain": [
       "[<matplotlib.lines.Line2D at 0x10e4fce90>]"
      ]
     },
     "execution_count": 8,
     "metadata": {},
     "output_type": "execute_result"
    }
   ],
   "source": [
    "#animation of the setup\n",
    "t = 0\n",
    "\n",
    "cap = out[:,cap_i,t]\n",
    "prot_cap = out[:,prot_cap_i,t]\n",
    "prot = out[:,prot_i,t] \n",
    "anal = out[:,anal_i,t] \n",
    "prot_anal = out[:,prot_anal_i,t] \n",
    "tprot = prot+prot_cap+prot_anal\n",
    "tanal = anal+prot_anal\n",
    "\n",
    "fig = figure(1, figsize=(10, 5))\n",
    "clf()\n",
    "\n",
    "scaling = tprot.sum() / anal[0]\n",
    "\n",
    "#plot(cap, 'o-', label='cap')\n",
    "subplot(211)\n",
    "prot_cap_line, = plot(prot_cap, '-', label='prot-cap')\n",
    "prot_line, = plot(prot, '-', label='prot')\n",
    "anal_line, = plot(anal*scaling, '-', label='anal')\n",
    "prot_anal_line, = plot(prot_anal, label='prot_anal')\n",
    "legend(loc='upper left')\n",
    "ylim((0, tprot.sum()*1.2))\n",
    "grid()\n",
    "xticks([13, 31, 48, 58], ['analyte_stop', 'protein', 'capture', 'stop'])\n",
    "\n",
    "subplot(212)\n",
    "together_line, = plot(prot + prot_cap+prot_anal, '-', label='prot')\n",
    "\n",
    "ylim((0, tprot.sum()*1.2))\n",
    "grid()\n",
    "\n",
    "xticks([13, 31, 48, 58], ['analyte_stop', 'protein', 'capture', 'stop'])\n",
    "\n",
    "if True:\n",
    "    # Set up formatting for the movie files\n",
    "    #Writer = animation.writers['ffmpeg']\n",
    "    #writer = Writer(fps=15, metadata=dict(artist='Me'), bitrate=1800)\n",
    "    \n",
    "    def animate(i):\n",
    "        i=int(i)\n",
    "        prot_cap_line.set_ydata(out[:,prot_cap_i,i])\n",
    "        prot_line.set_ydata(out[:,prot_i,i])\n",
    "        anal_line.set_ydata(out[:,anal_i,i]*scaling)\n",
    "        prot_anal_line.set_ydata(out[:,prot_anal_i,i])\n",
    "        together_line.set_ydata(out[:,prot_i,i] + out[:,prot_anal_i,i] + out[:,prot_cap_i,i])\n",
    "\n",
    "    ani = animation.FuncAnimation(fig, animate, linspace(0, iterations-1, 200),\n",
    "        interval=10, blit=False, repeat=False)\n",
    "    #ani.save('im.mp4', writer=writer)\n",
    "    \n",
    "savefig('animation\\\\%d-b.pdf'%t)\n",
    "    \n",
    "\n",
    "figure(2)\n",
    "clf()\n",
    "plot(prot_anal / (prot*anal))"
   ]
  },
  {
   "cell_type": "markdown",
   "metadata": {},
   "source": [
    "#heatmaps"
   ]
  },
  {
   "cell_type": "code",
   "execution_count": 44,
   "metadata": {
    "collapsed": false
   },
   "outputs": [
    {
     "name": "stderr",
     "output_type": "stream",
     "text": [
      "C:\\Users\\rkwant\\AppData\\Local\\Enthought\\Canopy\\User\\lib\\site-packages\\ipython-3.0.0-py2.7.egg\\IPython\\kernel\\__main__.py:16: RuntimeWarning: invalid value encountered in true_divide\n"
     ]
    }
   ],
   "source": [
    "#2D heatmap\n",
    "#analyte concentration\n",
    "xstart, xstop, xdim = -11, -4.5, 20\n",
    "#capture concentration\n",
    "ystart, ystop, ydim = -9, -4.0, 20\n",
    "pconc = -10.0\n",
    "kcapture, kanalyte = 1.0/(20*10**-9.0), 1.0/(0.5*10**-9.0)\n",
    "out = zeros((ydim, xdim))\n",
    "\n",
    "xs, ys = linspace(xstart, xstop, xdim), linspace(ystart, ystop, ydim)\n",
    "\n",
    "f=FloatProgress(min = 0, max = xdim)\n",
    "display(f)\n",
    "for i,analpow in enumerate(xs):\n",
    "    f.value=i+1\n",
    "    for j,cappow in enumerate(ys):\n",
    "        \n",
    "        result, iterations = run_column(anal_start = 10**analpow, cap_start = 10**cappow, protein_start = 10**pconc, \\\n",
    "                                        kcap=kcapture, kanal=kanalyte, timestep=1.0, stop=2.0)\n",
    "        t = -1\n",
    "        prot_cap = result[:,prot_cap_i, t]\n",
    "        prot = result[:,prot_i, t] \n",
    "        prot_anal = result[:,prot_anal_i, t]\n",
    "        \n",
    "        allprot = prot_cap+prot+prot_anal\n",
    "        \n",
    "        first_spot, second_spot = abs(allprot[48]), abs(allprot[58])\n",
    "        #print first_spot, second_spot\n",
    "        out[j,i] = log10(second_spot/first_spot)"
   ]
  },
  {
   "cell_type": "code",
   "execution_count": 45,
   "metadata": {
    "collapsed": false
   },
   "outputs": [],
   "source": [
    "figure(3)\n",
    "clf()\n",
    "\n",
    "vrange = 2\n",
    "\n",
    "ypad, xpad = 0.5*((ystop-ystart)/(ydim-1)), 0.5*((xstop-xstart)/(xdim-1))\n",
    "ymin, ymax, xmin, xmax = ystart-ypad, ystop + ypad, xstart-xpad, xstop+xpad\n",
    "\n",
    "imshow(out, interpolation='spline16', cmap='bwr', vmin=-vrange, vmax=vrange, \\\n",
    "       extent=(xmin, xmax, ymax, ymin),\\\n",
    "      aspect=(xstop-xstart)/(ystop-ystart))\n",
    "\n",
    "xticks(xs, [\"%0.1f\"%i for i in xs], rotation='vertical')\n",
    "yticks(ys, [\"%0.1f\"%i for i in ys])\n",
    "colorbar()\n",
    "\n",
    "xlabel('analyte concentration')\n",
    "ylabel('capture concentration')\n",
    "title('log([P])=%0.2f, log(Kcap)=%0.2f, log(Kanal)=%0.2f'%(pconc, log10(kcapture), log10(kanalyte)))\n",
    "\n",
    "vlines(-9, ymin, ymax)\n",
    "\n",
    "tight_layout()\n",
    "draw()\n",
    "\n",
    "savefig('heatmaps\\\\new-analytical-p_%0.2f-kc_%0.2f-ka_%0.2f.pdf'%(pconc, log10(kcapture), log10(kanalyte)))"
   ]
  },
  {
   "cell_type": "markdown",
   "metadata": {},
   "source": [
    "#Heatmaps 2"
   ]
  },
  {
   "cell_type": "code",
   "execution_count": 158,
   "metadata": {
    "collapsed": false
   },
   "outputs": [
    {
     "name": "stderr",
     "output_type": "stream",
     "text": [
      "C:\\Users\\rkwant\\AppData\\Local\\Enthought\\Canopy\\User\\lib\\site-packages\\ipython-3.0.0-py2.7.egg\\IPython\\kernel\\__main__.py:16: RuntimeWarning: invalid value encountered in true_divide\n"
     ]
    }
   ],
   "source": [
    "#2D heatmap\n",
    "#analyte concentration\n",
    "xstart, xstop, xdim = 4, 10, 10\n",
    "#capture concentration\n",
    "ystart, ystop, ydim = -9, -4.0, 10\n",
    "pconc = -10.0\n",
    "kcapture, kanalyte = 1.0/(0.5*10**-9.0), 1.0/(20*10**-9.0)\n",
    "analyte_concentration = 0*10**-8.0\n",
    "out = zeros((ydim, xdim))\n",
    "\n",
    "xs, ys = linspace(xstart, xstop, xdim), linspace(ystart, ystop, ydim)\n",
    "\n",
    "f=FloatProgress(min = 0, max = xdim)\n",
    "display(f)\n",
    "for i,kcappow in enumerate(xs):\n",
    "    f.value=i+1\n",
    "    for j,cappow in enumerate(ys):\n",
    "        \n",
    "        result, iterations = run_column(anal_start = analyte_concentration, cap_start = 10**cappow, protein_start = 10**pconc, \\\n",
    "                                        kcap=10**kcappow, kanal=kanalyte, timestep=1.0, stop=2.0)\n",
    "        t = -1\n",
    "        prot_cap = result[:,prot_cap_i, t]\n",
    "        prot = result[:,prot_i, t] \n",
    "        prot_anal = result[:,prot_anal_i, t]\n",
    "        \n",
    "        allprot = prot_cap+prot+prot_anal\n",
    "        \n",
    "        first_spot, second_spot = abs(allprot[48]), abs(allprot[58])\n",
    "        #print first_spot, second_spot\n",
    "        out[j,i] = log10(second_spot/first_spot)"
   ]
  },
  {
   "cell_type": "code",
   "execution_count": 159,
   "metadata": {
    "collapsed": false
   },
   "outputs": [
    {
     "name": "stderr",
     "output_type": "stream",
     "text": [
      "C:\\Users\\rkwant\\AppData\\Local\\Enthought\\Canopy\\User\\lib\\site-packages\\ipython-3.0.0-py2.7.egg\\IPython\\kernel\\__main__.py:17: RuntimeWarning: divide by zero encountered in log10\n",
      "C:\\Users\\rkwant\\AppData\\Local\\Enthought\\Canopy\\User\\lib\\site-packages\\ipython-3.0.0-py2.7.egg\\IPython\\kernel\\__main__.py:24: RuntimeWarning: divide by zero encountered in log10\n"
     ]
    }
   ],
   "source": [
    "figure(3)\n",
    "clf()\n",
    "\n",
    "vrange = 2\n",
    "\n",
    "ypad, xpad = 0.5*((ystop-ystart)/(ydim-1)), 0.5*((xstop-xstart)/(xdim-1))\n",
    "ymin, ymax, xmin, xmax = ystart-ypad, ystop + ypad, xstart-xpad, xstop+xpad\n",
    "\n",
    "imshow(out, interpolation='none', cmap='bwr', vmin=-vrange, vmax=vrange, \\\n",
    "       extent=(xmin, xmax, ymax, ymin),\\\n",
    "      aspect=(xstop-xstart)/(ystop-ystart))\n",
    "\n",
    "xticks(xs, [\"%0.1f\"%i for i in xs], rotation='vertical')\n",
    "yticks(ys, [\"%0.1f\"%i for i in ys])\n",
    "colorbar()\n",
    "\n",
    "xlabel('capture ka')\n",
    "ylabel('capture concentration')\n",
    "title('log([P])=%0.2f, log([analyte])=%0.2f, log(Kanal)=%0.2f'%(pconc, log10(analyte_concentration), log10(kanalyte)))\n",
    "\n",
    "#vlines(-9, ymin, ymax)\n",
    "\n",
    "tight_layout()\n",
    "draw()\n",
    "\n",
    "savefig('heatmaps\\\\analytical-p_%0.2f-an_conc_%0.2f-ka_%0.2f.pdf'%(pconc, log10(analyte_concentration), log10(kanalyte)))"
   ]
  },
  {
   "cell_type": "code",
   "execution_count": null,
   "metadata": {
    "collapsed": true
   },
   "outputs": [],
   "source": []
  }
 ],
 "metadata": {
  "kernelspec": {
   "display_name": "Python 2",
   "language": "python",
   "name": "python2"
  },
  "language_info": {
   "codemirror_mode": {
    "name": "ipython",
    "version": 2
   },
   "file_extension": ".py",
   "mimetype": "text/x-python",
   "name": "python",
   "nbconvert_exporter": "python",
   "pygments_lexer": "ipython2",
   "version": "2.7.6"
  }
 },
 "nbformat": 4,
 "nbformat_minor": 0
}
