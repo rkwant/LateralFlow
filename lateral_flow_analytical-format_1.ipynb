{
 "cells": [
  {
   "cell_type": "code",
   "execution_count": 1,
   "metadata": {
    "collapsed": false
   },
   "outputs": [
    {
     "name": "stdout",
     "output_type": "stream",
     "text": [
      "Populating the interactive namespace from numpy and matplotlib\n"
     ]
    }
   ],
   "source": [
    "%pylab tk"
   ]
  },
  {
   "cell_type": "code",
   "execution_count": 2,
   "metadata": {
    "collapsed": false
   },
   "outputs": [
    {
     "name": "stderr",
     "output_type": "stream",
     "text": [
      ":0: FutureWarning: IPython widgets are experimental and may change in the future.\n"
     ]
    }
   ],
   "source": [
    "from scipy.integrate import odeint\n",
    "from __future__ import division\n",
    "import time\n",
    "import matplotlib.animation as animation\n",
    "from IPython.display import clear_output, display\n",
    "from IPython.html.widgets import FloatProgress"
   ]
  },
  {
   "cell_type": "code",
   "execution_count": 198,
   "metadata": {
    "collapsed": true
   },
   "outputs": [],
   "source": [
    "def equilibrate(fa, fb, fp, ka, kb):\n",
    "    ka, kb = 1.0/ka, 1.0/kb\n",
    "    a = ka + kb + fa + fb - fp\n",
    "    b = kb*(fa-fp) + ka*(fb-fp) + ka*kb\n",
    "    c = -ka*kb*fp\n",
    "    theta = arccos((-2.0*a*a*a+9.0*a*b-27.0*c)/(2*sqrt((a*a-3.0*b)**3.0)))\n",
    "    p = -(a/3.0) + (2.0/3.0)*sqrt(a*a-3.0*b)*cos(theta/3.0)\n",
    "    pa = (fa*(2*sqrt(a*a-3*b)*cos(theta/3.0)-a)) / (3.0*ka+(2*sqrt(a*a-3*b)*cos(theta/3.0)-a))\n",
    "    pb = (fb*(2*sqrt(a*a-3*b)*cos(theta/3.0)-a)) / (3.0*kb+(2*sqrt(a*a-3*b)*cos(theta/3.0)-a))\n",
    "    a = fa - pa\n",
    "    b = fb - pb\n",
    "    fa / (a+pa)\n",
    "    return a, b, p, pa, pb\n",
    "\n",
    "species = 5\n",
    "# protein, dye, analyte, control\n",
    "prot_i, dye_i, anal_i, prot_dye_i, prot_anal_i = range(0,species)\n",
    "\n",
    "def run_column(protein_start=10**-10.0, anal_start=10**-9.0, dye_start=10**-5.5, kanal=10**10.0, kdye=10**8.0, timestep=0.1, \\\n",
    "               verbose=False, dtype=longdouble, stop=2.0):\n",
    "    \n",
    "    #width, length, thickness = 8, 50.0, 0.15#units of mm\n",
    "    #porosity = 0.7\n",
    "    col_vol = 0.2 #porosity*width*length*thickness / 1000.0 #ml\n",
    "    if verbose: print 'Column volume is %0.2f ul'%(col_vol*1000)\n",
    "\n",
    "    flow = 0.01 #ml/min\n",
    "    flow = flow/60.0 #ml/s\n",
    "    plates = 100\n",
    "    plate_vol = col_vol / plates\n",
    "    plate_flow = flow/plate_vol\n",
    "    if verbose: print 'Plate volume is %0.2f ul'%(plate_vol*1000)\n",
    "\n",
    "    vstart, vstop = 0, col_vol*stop\n",
    "    iterations = int(floor(vstop/(timestep*flow)))\n",
    "    if verbose: print iterations\n",
    "    volumes = array(range(0, iterations))*flow*timestep\n",
    "\n",
    "    if verbose: print 'pf timestep product:',plate_flow*timestep\n",
    "\n",
    "    col = zeros((plates, species), dtype=dtype)\n",
    "    col[:, prot_i] = protein_start\n",
    "    col[:, dye_i] = dye_start\n",
    "    col[0, anal_i] = anal_start\n",
    "    \n",
    "\n",
    "    start = time.time()\n",
    "\n",
    "    out = zeros((plates, species, iterations))\n",
    "    for i in range(0, iterations):\n",
    "        out[:,:,i] = col\n",
    "        current_volume = i*timestep*flow\n",
    "\n",
    "        prot = col[:,prot_i]\n",
    "        dye = col[:,dye_i]\n",
    "        anal = col[:,anal_i]\n",
    "        prot_dye = col[:,prot_dye_i]\n",
    "        prot_anal = col[:,prot_anal_i]\n",
    "\n",
    "        col[:,anal_i], col[:,dye_i], col[:,prot_i], col[:,prot_anal_i], col[:,prot_dye_i] = \\\n",
    "            equilibrate(anal+prot_anal, dye+prot_dye, prot+prot_dye+prot_anal, kanal, kdye)\n",
    "        col[isnan(col)] = 0\n",
    "        \n",
    "        #flow the column--things that flow are the analyte and the capture (dye) reagent\n",
    "        for key in [anal_i, dye_i]:\n",
    "            change = col[:,key].copy()*plate_flow*timestep\n",
    "            col[:,key] = col[:,key] - change[:]\n",
    "            col[1:, key] = col[1:, key] + change[:-1]\n",
    "            \n",
    "            #continuous input of the analyte at the beginning\n",
    "            if key == anal_i: col[0, key] = col[0, key] + anal_start*plate_flow*timestep\n",
    "    out[:,:,i] = col   \n",
    "        \n",
    "    if verbose: print \"Calculation took %0.2fs\"%(time.time()-start)\n",
    "    return out, iterations, volumes"
   ]
  },
  {
   "cell_type": "markdown",
   "metadata": {},
   "source": [
    "#testing"
   ]
  },
  {
   "cell_type": "code",
   "execution_count": 243,
   "metadata": {
    "collapsed": false
   },
   "outputs": [
    {
     "name": "stdout",
     "output_type": "stream",
     "text": [
      "Column volume is 200.00 ul\n",
      "Plate volume is 2.00 ul\n",
      "36000\n",
      "pf timestep product: 0.00833333333333\n",
      "Calculation took 3.71s\n"
     ]
    },
    {
     "name": "stderr",
     "output_type": "stream",
     "text": [
      "C:\\Users\\rkwant\\AppData\\Local\\Enthought\\Canopy\\User\\lib\\site-packages\\ipython-3.0.0-py2.7.egg\\IPython\\kernel\\__main__.py:12: RuntimeWarning: invalid value encountered in true_divide\n"
     ]
    }
   ],
   "source": [
    "protein_start = 10**-7.3\n",
    "dye_percent = 0.1\n",
    "anal_start = 10**-7.6\n",
    "kdye = 1.0/(20*10**-9.0)\n",
    "kanal = 1.0/(0.5*10**-9.0)\n",
    "stop = 3.0\n",
    "\n",
    "\n",
    "out, iterations, volumes = run_column(dye_start=protein_start*dye_percent, anal_start=anal_start, protein_start=protein_start, \\\n",
    "                             kdye = kdye, kanal = kanal, verbose=True, timestep=0.1, \\\n",
    "                            dtype=longdouble, stop=stop)\n",
    "\n",
    "out_baseline, iterations, volumes = run_column(dye_start=protein_start*dye_percent, anal_start=0.0, protein_start=protein_start, \\\n",
    "                             kdye = kdye, kanal = kanal, verbose=False, timestep=0.1, \\\n",
    "                            dtype=longdouble, stop=stop)"
   ]
  },
  {
   "cell_type": "code",
   "execution_count": 244,
   "metadata": {
    "collapsed": false
   },
   "outputs": [],
   "source": [
    "#animation of the setup\n",
    "t = 0\n",
    "dye = out[:,dye_i,t]\n",
    "prot_dye = out[:,prot_dye_i,t]\n",
    "prot = out[:,prot_i,t] \n",
    "anal = out[:,anal_i,t] \n",
    "prot_anal = out[:,prot_anal_i,t]\n",
    "\n",
    "tprot = prot+prot_dye+prot_anal\n",
    "tanal = anal+prot_anal\n",
    "tdye = dye+prot_dye\n",
    "\n",
    "fig = figure(1, figsize=(10, 5))\n",
    "clf()\n",
    "\n",
    "scaling = tprot.max() / anal[0]\n",
    "\n",
    "c1, c2, c3 =rcParams['axes.color_cycle'][0], rcParams['axes.color_cycle'][1], rcParams['axes.color_cycle'][2]\n",
    "\n",
    "subplot(211)\n",
    "dye_line, = plot(dye, '-', label='dye', linewidth=2, color=c1)\n",
    "prot_dye_line, = plot(prot_dye, '--', label='prot-dye', linewidth=2, color=c1)\n",
    "anal_line, = plot(anal*scaling, '-', label='anal', color=c2)\n",
    "prot_anal_line, = plot(prot_anal, '--', label='prot_anal', color=c2)\n",
    "prot_line, = plot(prot, '--', label='prot', color=c3)\n",
    "legend(loc='upper right', ncol=3)\n",
    "\n",
    "ylim((0, tprot.max()*1.2))\n",
    "grid()\n",
    "xticks([13, 31], ['analyte_stop', 'protein'])\n",
    "\n",
    "subplot(212)\n",
    "together_line, = plot(volumes, zeros(volumes.shape), '-', label='Signal')\n",
    "together_baseline, = plot(volumes, zeros(volumes.shape), '-', label='Background')\n",
    "legend()\n",
    "xlim((volumes.min(), volumes.max()))\n",
    "ylim((0, out[-1, dye_i-species, :].max()*1.2))\n",
    "grid()\n",
    "\n",
    "if False:\n",
    "    def animate(i):\n",
    "        i=int(i)\n",
    "        dye_line.set_ydata(out[:, dye_i, i])\n",
    "        prot_dye_line.set_ydata(out[:,prot_dye_i,i])\n",
    "        prot_line.set_ydata(out[:,prot_i,i])\n",
    "        anal_line.set_ydata(out[:,anal_i,i]*scaling)\n",
    "        prot_anal_line.set_ydata(out[:,prot_anal_i,i])\n",
    "        \n",
    "        toshow = out[-1, dye_i-species, :].copy()\n",
    "        toshow[i:] = 0\n",
    "        together_line.set_ydata(toshow)\n",
    "        \n",
    "        toshow = out_baseline[-1, dye_i-species, :].copy()\n",
    "        toshow[i:] = 0\n",
    "        together_baseline.set_ydata(toshow)\n",
    "\n",
    "    ani = animation.FuncAnimation(fig, animate, linspace(0, iterations-1, 200),\n",
    "        interval=10, blit=False, repeat=False)\n",
    "else: together_line.set_ydata(out[-1, dye_i-species, :])\n",
    "    \n",
    "#savefig('animation\\\\%d-b.pdf'%t)"
   ]
  },
  {
   "cell_type": "markdown",
   "metadata": {},
   "source": [
    "#heatmaps"
   ]
  },
  {
   "cell_type": "code",
   "execution_count": 237,
   "metadata": {
    "collapsed": false
   },
   "outputs": [
    {
     "name": "stderr",
     "output_type": "stream",
     "text": [
      "C:\\Users\\rkwant\\AppData\\Local\\Enthought\\Canopy\\User\\lib\\site-packages\\ipython-3.0.0-py2.7.egg\\IPython\\kernel\\__main__.py:12: RuntimeWarning: invalid value encountered in true_divide\n"
     ]
    }
   ],
   "source": [
    "#2D heatmap\n",
    "#analyte concentration\n",
    "xstart, xstop, xdim = -9, -4.0, 10\n",
    "#protein concentration\n",
    "ystart, ystop, ydim = -9, -4.0, 10\n",
    "\n",
    "kdye, kanalyte = 1.0/(20*10**-9.0), 1.0/(0.5*10**-9.0)\n",
    "out = zeros((ydim, xdim))\n",
    "\n",
    "xs, ys = linspace(xstart, xstop, xdim), linspace(ystart, ystop, ydim)\n",
    "\n",
    "f=FloatProgress(min = 0, max = xdim*ydim)\n",
    "display(f)\n",
    "for i,analpow in enumerate(xs):\n",
    "    for j,dyepow in enumerate(ys):\n",
    "        f.value=ydim*i+j+1\n",
    "        rs = []\n",
    "        for multiplier in [0.0, 1.0]:\n",
    "            result, iterations, volumes = run_column(anal_start = multiplier*10**analpow, dye_start = 0.1*10**dyepow, \\\n",
    "                                                     protein_start = 10**dyepow, \\\n",
    "                                        kdye=kdye, kanal=kanalyte, timestep=1.0, stop=10.0)\n",
    "            rs.append(result)\n",
    "        out[j,i] = rs[1][-1, dye_i-species, :].sum() / rs[0][-1, dye_i-species, :].sum()"
   ]
  },
  {
   "cell_type": "code",
   "execution_count": 238,
   "metadata": {
    "collapsed": false
   },
   "outputs": [],
   "source": [
    "figure(3)\n",
    "clf()\n",
    "\n",
    "vmin, vmax = 0, 2\n",
    "\n",
    "ypad, xpad = 0.5*((ystop-ystart)/(ydim-1)), 0.5*((xstop-xstart)/(xdim-1))\n",
    "ymin, ymax, xmin, xmax = ystart-ypad, ystop + ypad, xstart-xpad, xstop+xpad\n",
    "\n",
    "imshow(log10(out), interpolation='none', cmap='rainbow', \\\n",
    "       extent=(xmin, xmax, ymax, ymin), vmin=vmin, vmax=vmax,\\\n",
    "      aspect=(xstop-xstart)/(ystop-ystart))\n",
    "\n",
    "xticks(xs, [\"%0.1f\"%i for i in xs], rotation='vertical')\n",
    "yticks(ys, [\"%0.1f\"%i for i in ys])\n",
    "\n",
    "\n",
    "ylabel('[Protein and Dye]')\n",
    "xlabel('[Analyte]')\n",
    "xlim((xmin, xmax))\n",
    "ylim((ymin, ymax))\n",
    "title('log([P])=%0.2f, log(Kcap)=%0.2f, log(Kanal)=%0.2f'%(pconc, log10(kdye), log10(kanalyte)))\n",
    "\n",
    "ticks = linspace(vmin, vmax, 10)\n",
    "cbar = colorbar(ticks=ticks)\n",
    "cbar.ax.set_yticklabels(['%0.2f'%(10**i) for i in ticks])\n",
    "\n",
    "tight_layout()\n",
    "draw()\n",
    "\n",
    "#savefig('heatmaps\\\\new-analytical-p_%0.2f-kc_%0.2f-ka_%0.2f.pdf'%(pconc, log10(kdye), log10(kanalyte)))"
   ]
  },
  {
   "cell_type": "markdown",
   "metadata": {},
   "source": [
    "#heatmap 2"
   ]
  },
  {
   "cell_type": "code",
   "execution_count": 226,
   "metadata": {
    "collapsed": false
   },
   "outputs": [
    {
     "name": "stderr",
     "output_type": "stream",
     "text": [
      "C:\\Users\\rkwant\\AppData\\Local\\Enthought\\Canopy\\User\\lib\\site-packages\\ipython-3.0.0-py2.7.egg\\IPython\\kernel\\__main__.py:12: RuntimeWarning: invalid value encountered in true_divide\n",
      "C:\\Users\\rkwant\\AppData\\Local\\Enthought\\Canopy\\User\\lib\\site-packages\\ipython-3.0.0-py2.7.egg\\IPython\\kernel\\__main__.py:22: RuntimeWarning: invalid value encountered in double_scalars\n"
     ]
    }
   ],
   "source": [
    "#2D heatmap\n",
    "#analyte concentration\n",
    "xstart, xstop, xdim = -9, -4.0, 10\n",
    "#protein concentration\n",
    "ystart, ystop, ydim = 0, 1, 10\n",
    "\n",
    "kdye, kanalyte = 1.0/(20*10**-9.0), 1.0/(100*10**-9.0)\n",
    "out = zeros((ydim, xdim))\n",
    "dyepow = -7.0\n",
    "\n",
    "xs, ys = linspace(xstart, xstop, xdim), linspace(ystart, ystop, ydim)\n",
    "\n",
    "f=FloatProgress(min = 0, max = xdim*ydim)\n",
    "display(f)\n",
    "for i,analpow in enumerate(xs):\n",
    "    for j,frac in enumerate(ys):\n",
    "        f.value=ydim*i+j+1\n",
    "        rs = []\n",
    "        for multiplier in [0.0, 1.0]:\n",
    "            result, iterations, volumes = run_column(anal_start = multiplier*10**analpow, dye_start = frac*10**dyepow, \\\n",
    "                                                     protein_start = 10**dyepow, \\\n",
    "                                        kdye=kdye, kanal=kanalyte, timestep=1.0, stop=2.0)\n",
    "            rs.append(result)\n",
    "        out[j,i] = rs[1][-1, dye_i-species, :].sum() / rs[0][-1, dye_i-species, :].sum()"
   ]
  },
  {
   "cell_type": "code",
   "execution_count": 227,
   "metadata": {
    "collapsed": true
   },
   "outputs": [],
   "source": [
    "figure(4)\n",
    "clf()\n",
    "\n",
    "vmin, vmax = 0, 2\n",
    "\n",
    "ypad, xpad = 0.5*((ystop-ystart)/(ydim-1)), 0.5*((xstop-xstart)/(xdim-1))\n",
    "ymin, ymax, xmin, xmax = ystart-ypad, ystop + ypad, xstart-xpad, xstop+xpad\n",
    "\n",
    "imshow(log10(out), interpolation='none', cmap='rainbow', \\\n",
    "       extent=(xmin, xmax, ymax, ymin), vmin=vmin, vmax=vmax,\\\n",
    "      aspect=(xstop-xstart)/(ystop-ystart))\n",
    "\n",
    "xticks(xs, [\"%0.1f\"%i for i in xs], rotation='vertical')\n",
    "yticks(ys, [\"%0.1f\"%i for i in ys])\n",
    "\n",
    "\n",
    "ylabel('Fraction occupied')\n",
    "xlabel('[Analyte]')\n",
    "xlim((xmin, xmax))\n",
    "ylim((ymin, ymax))\n",
    "title('log([P])=%0.2f, log(Kcap)=%0.2f, log(Kanal)=%0.2f'%(pconc, log10(kdye), log10(kanalyte)))\n",
    "\n",
    "ticks = linspace(vmin, vmax, 10)\n",
    "cbar = colorbar(ticks=ticks)\n",
    "cbar.ax.set_yticklabels(['%0.2f'%(10**i) for i in ticks])\n",
    "\n",
    "tight_layout()\n",
    "draw()\n",
    "\n",
    "#savefig('heatmaps\\\\new-analytical-p_%0.2f-kc_%0.2f-ka_%0.2f.pdf'%(pconc, log10(kdye), log10(kanalyte)))"
   ]
  },
  {
   "cell_type": "code",
   "execution_count": null,
   "metadata": {
    "collapsed": true
   },
   "outputs": [],
   "source": []
  }
 ],
 "metadata": {
  "kernelspec": {
   "display_name": "Python 2",
   "language": "python",
   "name": "python2"
  },
  "language_info": {
   "codemirror_mode": {
    "name": "ipython",
    "version": 2
   },
   "file_extension": ".py",
   "mimetype": "text/x-python",
   "name": "python",
   "nbconvert_exporter": "python",
   "pygments_lexer": "ipython2",
   "version": "2.7.6"
  }
 },
 "nbformat": 4,
 "nbformat_minor": 0
}
